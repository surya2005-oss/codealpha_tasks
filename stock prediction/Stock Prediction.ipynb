{
 "cells": [
  {
   "cell_type": "code",
   "execution_count": 1,
   "id": "ba0e73ff",
   "metadata": {},
   "outputs": [],
   "source": [
    "import numpy as np\n",
    "import pandas as pd\n",
    "\n",
    "import matplotlib.pyplot as plt\n",
    "import seaborn as sns"
   ]
  },
  {
   "cell_type": "code",
   "execution_count": 2,
   "id": "d2057ca1",
   "metadata": {},
   "outputs": [],
   "source": [
    "import torch\n"
   ]
  },
  {
   "cell_type": "code",
   "execution_count": 10,
   "id": "1862fdb0",
   "metadata": {},
   "outputs": [
    {
     "data": {
      "text/html": [
       "<div>\n",
       "<style scoped>\n",
       "    .dataframe tbody tr th:only-of-type {\n",
       "        vertical-align: middle;\n",
       "    }\n",
       "\n",
       "    .dataframe tbody tr th {\n",
       "        vertical-align: top;\n",
       "    }\n",
       "\n",
       "    .dataframe thead th {\n",
       "        text-align: right;\n",
       "    }\n",
       "</style>\n",
       "<table border=\"1\" class=\"dataframe\">\n",
       "  <thead>\n",
       "    <tr style=\"text-align: right;\">\n",
       "      <th></th>\n",
       "      <th>Date</th>\n",
       "      <th>High</th>\n",
       "      <th>Low</th>\n",
       "      <th>Open</th>\n",
       "      <th>Close</th>\n",
       "      <th>Volume</th>\n",
       "      <th>Adj Close</th>\n",
       "    </tr>\n",
       "  </thead>\n",
       "  <tbody>\n",
       "    <tr>\n",
       "      <th>0</th>\n",
       "      <td>23-05-2002</td>\n",
       "      <td>1.242857</td>\n",
       "      <td>1.145714</td>\n",
       "      <td>1.156429</td>\n",
       "      <td>1.196429</td>\n",
       "      <td>104790000</td>\n",
       "      <td>1.196429</td>\n",
       "    </tr>\n",
       "    <tr>\n",
       "      <th>1</th>\n",
       "      <td>24-05-2002</td>\n",
       "      <td>1.225000</td>\n",
       "      <td>1.197143</td>\n",
       "      <td>1.214286</td>\n",
       "      <td>1.210000</td>\n",
       "      <td>11104800</td>\n",
       "      <td>1.210000</td>\n",
       "    </tr>\n",
       "    <tr>\n",
       "      <th>2</th>\n",
       "      <td>28-05-2002</td>\n",
       "      <td>1.232143</td>\n",
       "      <td>1.157143</td>\n",
       "      <td>1.213571</td>\n",
       "      <td>1.157143</td>\n",
       "      <td>6609400</td>\n",
       "      <td>1.157143</td>\n",
       "    </tr>\n",
       "    <tr>\n",
       "      <th>3</th>\n",
       "      <td>29-05-2002</td>\n",
       "      <td>1.164286</td>\n",
       "      <td>1.085714</td>\n",
       "      <td>1.164286</td>\n",
       "      <td>1.103571</td>\n",
       "      <td>6757800</td>\n",
       "      <td>1.103571</td>\n",
       "    </tr>\n",
       "    <tr>\n",
       "      <th>4</th>\n",
       "      <td>30-05-2002</td>\n",
       "      <td>1.107857</td>\n",
       "      <td>1.071429</td>\n",
       "      <td>1.107857</td>\n",
       "      <td>1.071429</td>\n",
       "      <td>10154200</td>\n",
       "      <td>1.071429</td>\n",
       "    </tr>\n",
       "    <tr>\n",
       "      <th>...</th>\n",
       "      <td>...</td>\n",
       "      <td>...</td>\n",
       "      <td>...</td>\n",
       "      <td>...</td>\n",
       "      <td>...</td>\n",
       "      <td>...</td>\n",
       "      <td>...</td>\n",
       "    </tr>\n",
       "    <tr>\n",
       "      <th>4876</th>\n",
       "      <td>05-10-2021</td>\n",
       "      <td>640.390015</td>\n",
       "      <td>606.890015</td>\n",
       "      <td>606.940002</td>\n",
       "      <td>634.809998</td>\n",
       "      <td>9534300</td>\n",
       "      <td>634.809998</td>\n",
       "    </tr>\n",
       "    <tr>\n",
       "      <th>4877</th>\n",
       "      <td>06-10-2021</td>\n",
       "      <td>639.869995</td>\n",
       "      <td>626.359985</td>\n",
       "      <td>628.179993</td>\n",
       "      <td>639.099976</td>\n",
       "      <td>4580400</td>\n",
       "      <td>639.099976</td>\n",
       "    </tr>\n",
       "    <tr>\n",
       "      <th>4878</th>\n",
       "      <td>07-10-2021</td>\n",
       "      <td>646.840027</td>\n",
       "      <td>630.450012</td>\n",
       "      <td>642.229981</td>\n",
       "      <td>631.849976</td>\n",
       "      <td>3556900</td>\n",
       "      <td>631.849976</td>\n",
       "    </tr>\n",
       "    <tr>\n",
       "      <th>4879</th>\n",
       "      <td>08-10-2021</td>\n",
       "      <td>643.799988</td>\n",
       "      <td>630.859985</td>\n",
       "      <td>634.169983</td>\n",
       "      <td>632.659973</td>\n",
       "      <td>3271100</td>\n",
       "      <td>632.659973</td>\n",
       "    </tr>\n",
       "    <tr>\n",
       "      <th>4880</th>\n",
       "      <td>11-10-2021</td>\n",
       "      <td>639.419983</td>\n",
       "      <td>626.780029</td>\n",
       "      <td>633.200012</td>\n",
       "      <td>627.039978</td>\n",
       "      <td>2861200</td>\n",
       "      <td>627.039978</td>\n",
       "    </tr>\n",
       "  </tbody>\n",
       "</table>\n",
       "<p>4881 rows × 7 columns</p>\n",
       "</div>"
      ],
      "text/plain": [
       "            Date        High         Low        Open       Close     Volume  \\\n",
       "0     23-05-2002    1.242857    1.145714    1.156429    1.196429  104790000   \n",
       "1     24-05-2002    1.225000    1.197143    1.214286    1.210000   11104800   \n",
       "2     28-05-2002    1.232143    1.157143    1.213571    1.157143    6609400   \n",
       "3     29-05-2002    1.164286    1.085714    1.164286    1.103571    6757800   \n",
       "4     30-05-2002    1.107857    1.071429    1.107857    1.071429   10154200   \n",
       "...          ...         ...         ...         ...         ...        ...   \n",
       "4876  05-10-2021  640.390015  606.890015  606.940002  634.809998    9534300   \n",
       "4877  06-10-2021  639.869995  626.359985  628.179993  639.099976    4580400   \n",
       "4878  07-10-2021  646.840027  630.450012  642.229981  631.849976    3556900   \n",
       "4879  08-10-2021  643.799988  630.859985  634.169983  632.659973    3271100   \n",
       "4880  11-10-2021  639.419983  626.780029  633.200012  627.039978    2861200   \n",
       "\n",
       "       Adj Close  \n",
       "0       1.196429  \n",
       "1       1.210000  \n",
       "2       1.157143  \n",
       "3       1.103571  \n",
       "4       1.071429  \n",
       "...          ...  \n",
       "4876  634.809998  \n",
       "4877  639.099976  \n",
       "4878  631.849976  \n",
       "4879  632.659973  \n",
       "4880  627.039978  \n",
       "\n",
       "[4881 rows x 7 columns]"
      ]
     },
     "execution_count": 10,
     "metadata": {},
     "output_type": "execute_result"
    }
   ],
   "source": [
    "df=pd.read_csv('netflix.csv')\n",
    "df"
   ]
  },
  {
   "cell_type": "code",
   "execution_count": 4,
   "id": "464a1cb0",
   "metadata": {},
   "outputs": [
    {
     "data": {
      "text/html": [
       "<div>\n",
       "<style scoped>\n",
       "    .dataframe tbody tr th:only-of-type {\n",
       "        vertical-align: middle;\n",
       "    }\n",
       "\n",
       "    .dataframe tbody tr th {\n",
       "        vertical-align: top;\n",
       "    }\n",
       "\n",
       "    .dataframe thead th {\n",
       "        text-align: right;\n",
       "    }\n",
       "</style>\n",
       "<table border=\"1\" class=\"dataframe\">\n",
       "  <thead>\n",
       "    <tr style=\"text-align: right;\">\n",
       "      <th></th>\n",
       "      <th>Date</th>\n",
       "      <th>High</th>\n",
       "      <th>Low</th>\n",
       "      <th>Open</th>\n",
       "      <th>Close</th>\n",
       "      <th>Volume</th>\n",
       "      <th>Adj Close</th>\n",
       "    </tr>\n",
       "  </thead>\n",
       "  <tbody>\n",
       "    <tr>\n",
       "      <th>0</th>\n",
       "      <td>23-05-2002</td>\n",
       "      <td>1.242857</td>\n",
       "      <td>1.145714</td>\n",
       "      <td>1.156429</td>\n",
       "      <td>1.196429</td>\n",
       "      <td>104790000</td>\n",
       "      <td>1.196429</td>\n",
       "    </tr>\n",
       "    <tr>\n",
       "      <th>1</th>\n",
       "      <td>24-05-2002</td>\n",
       "      <td>1.225000</td>\n",
       "      <td>1.197143</td>\n",
       "      <td>1.214286</td>\n",
       "      <td>1.210000</td>\n",
       "      <td>11104800</td>\n",
       "      <td>1.210000</td>\n",
       "    </tr>\n",
       "    <tr>\n",
       "      <th>2</th>\n",
       "      <td>28-05-2002</td>\n",
       "      <td>1.232143</td>\n",
       "      <td>1.157143</td>\n",
       "      <td>1.213571</td>\n",
       "      <td>1.157143</td>\n",
       "      <td>6609400</td>\n",
       "      <td>1.157143</td>\n",
       "    </tr>\n",
       "    <tr>\n",
       "      <th>3</th>\n",
       "      <td>29-05-2002</td>\n",
       "      <td>1.164286</td>\n",
       "      <td>1.085714</td>\n",
       "      <td>1.164286</td>\n",
       "      <td>1.103571</td>\n",
       "      <td>6757800</td>\n",
       "      <td>1.103571</td>\n",
       "    </tr>\n",
       "    <tr>\n",
       "      <th>4</th>\n",
       "      <td>30-05-2002</td>\n",
       "      <td>1.107857</td>\n",
       "      <td>1.071429</td>\n",
       "      <td>1.107857</td>\n",
       "      <td>1.071429</td>\n",
       "      <td>10154200</td>\n",
       "      <td>1.071429</td>\n",
       "    </tr>\n",
       "    <tr>\n",
       "      <th>5</th>\n",
       "      <td>31-05-2002</td>\n",
       "      <td>1.078571</td>\n",
       "      <td>1.071429</td>\n",
       "      <td>1.078571</td>\n",
       "      <td>1.076429</td>\n",
       "      <td>8464400</td>\n",
       "      <td>1.076429</td>\n",
       "    </tr>\n",
       "    <tr>\n",
       "      <th>6</th>\n",
       "      <td>03-06-2002</td>\n",
       "      <td>1.149286</td>\n",
       "      <td>1.076429</td>\n",
       "      <td>1.080000</td>\n",
       "      <td>1.128571</td>\n",
       "      <td>3151400</td>\n",
       "      <td>1.128571</td>\n",
       "    </tr>\n",
       "    <tr>\n",
       "      <th>7</th>\n",
       "      <td>04-06-2002</td>\n",
       "      <td>1.140000</td>\n",
       "      <td>1.110714</td>\n",
       "      <td>1.135714</td>\n",
       "      <td>1.117857</td>\n",
       "      <td>3105200</td>\n",
       "      <td>1.117857</td>\n",
       "    </tr>\n",
       "    <tr>\n",
       "      <th>8</th>\n",
       "      <td>05-06-2002</td>\n",
       "      <td>1.159286</td>\n",
       "      <td>1.107143</td>\n",
       "      <td>1.110714</td>\n",
       "      <td>1.147143</td>\n",
       "      <td>1531600</td>\n",
       "      <td>1.147143</td>\n",
       "    </tr>\n",
       "    <tr>\n",
       "      <th>9</th>\n",
       "      <td>06-06-2002</td>\n",
       "      <td>1.232143</td>\n",
       "      <td>1.148571</td>\n",
       "      <td>1.150000</td>\n",
       "      <td>1.182143</td>\n",
       "      <td>2305800</td>\n",
       "      <td>1.182143</td>\n",
       "    </tr>\n",
       "  </tbody>\n",
       "</table>\n",
       "</div>"
      ],
      "text/plain": [
       "         Date      High       Low      Open     Close     Volume  Adj Close\n",
       "0  23-05-2002  1.242857  1.145714  1.156429  1.196429  104790000   1.196429\n",
       "1  24-05-2002  1.225000  1.197143  1.214286  1.210000   11104800   1.210000\n",
       "2  28-05-2002  1.232143  1.157143  1.213571  1.157143    6609400   1.157143\n",
       "3  29-05-2002  1.164286  1.085714  1.164286  1.103571    6757800   1.103571\n",
       "4  30-05-2002  1.107857  1.071429  1.107857  1.071429   10154200   1.071429\n",
       "5  31-05-2002  1.078571  1.071429  1.078571  1.076429    8464400   1.076429\n",
       "6  03-06-2002  1.149286  1.076429  1.080000  1.128571    3151400   1.128571\n",
       "7  04-06-2002  1.140000  1.110714  1.135714  1.117857    3105200   1.117857\n",
       "8  05-06-2002  1.159286  1.107143  1.110714  1.147143    1531600   1.147143\n",
       "9  06-06-2002  1.232143  1.148571  1.150000  1.182143    2305800   1.182143"
      ]
     },
     "execution_count": 4,
     "metadata": {},
     "output_type": "execute_result"
    }
   ],
   "source": [
    "data=df.head(10)\n",
    "data"
   ]
  },
  {
   "cell_type": "code",
   "execution_count": 5,
   "id": "63fcf189",
   "metadata": {},
   "outputs": [
    {
     "name": "stdout",
     "output_type": "stream",
     "text": [
      "<class 'pandas.core.frame.DataFrame'>\n",
      "RangeIndex: 4881 entries, 0 to 4880\n",
      "Data columns (total 7 columns):\n",
      " #   Column     Non-Null Count  Dtype  \n",
      "---  ------     --------------  -----  \n",
      " 0   Date       4881 non-null   object \n",
      " 1   High       4881 non-null   float64\n",
      " 2   Low        4881 non-null   float64\n",
      " 3   Open       4881 non-null   float64\n",
      " 4   Close      4881 non-null   float64\n",
      " 5   Volume     4881 non-null   int64  \n",
      " 6   Adj Close  4881 non-null   float64\n",
      "dtypes: float64(5), int64(1), object(1)\n",
      "memory usage: 267.1+ KB\n"
     ]
    }
   ],
   "source": [
    "df.info()"
   ]
  },
  {
   "cell_type": "code",
   "execution_count": 6,
   "id": "da5ef773",
   "metadata": {},
   "outputs": [
    {
     "data": {
      "text/plain": [
       "Date         23-05-200224-05-200228-05-200229-05-200230-05-...\n",
       "High                                             522283.407411\n",
       "Low                                              506367.989464\n",
       "Open                                             514401.157817\n",
       "Close                                             514624.07952\n",
       "Volume                                             81998324100\n",
       "Adj Close                                         514624.07952\n",
       "dtype: object"
      ]
     },
     "execution_count": 6,
     "metadata": {},
     "output_type": "execute_result"
    }
   ],
   "source": [
    "df.sum()"
   ]
  },
  {
   "cell_type": "code",
   "execution_count": 7,
   "id": "4ff33119",
   "metadata": {},
   "outputs": [
    {
     "data": {
      "image/png": "[encoded data removed]",
      "text/plain": [
       "<Figure size 640x480 with 1 Axes>"
      ]
     },
     "metadata": {},
     "output_type": "display_data"
    }
   ],
   "source": [
    "sns.lineplot(x=\"Date\",y=\"Open\",data=df)\n",
    "plt.grid()"
   ]
  },
  {
   "cell_type": "code",
   "execution_count": 8,
   "id": "c14100fd",
   "metadata": {},
   "outputs": [
    {
     "data": {
      "text/plain": [
       "<Axes: xlabel='Adj Close', ylabel='Volume'>"
      ]
     },
     "execution_count": 8,
     "metadata": {},
     "output_type": "execute_result"
    },
    {
     "data": {
      "image/png": "[encoded data removed]",
      "text/plain": [
       "<Figure size 640x480 with 1 Axes>"
      ]
     },
     "metadata": {},
     "output_type": "display_data"
    }
   ],
   "source": [
    "sns.barplot(x=\"Adj Close\",y=\"Volume\", data=data)"
   ]
  },
  {
   "cell_type": "code",
   "execution_count": 9,
   "id": "ccc1476d",
   "metadata": {},
   "outputs": [
    {
     "data": {
      "text/html": [
       "<div>\n",
       "<style scoped>\n",
       "    .dataframe tbody tr th:only-of-type {\n",
       "        vertical-align: middle;\n",
       "    }\n",
       "\n",
       "    .dataframe tbody tr th {\n",
       "        vertical-align: top;\n",
       "    }\n",
       "\n",
       "    .dataframe thead th {\n",
       "        text-align: right;\n",
       "    }\n",
       "</style>\n",
       "<table border=\"1\" class=\"dataframe\">\n",
       "  <thead>\n",
       "    <tr style=\"text-align: right;\">\n",
       "      <th></th>\n",
       "      <th>High</th>\n",
       "      <th>Low</th>\n",
       "      <th>Open</th>\n",
       "      <th>Close</th>\n",
       "      <th>Volume</th>\n",
       "      <th>Adj Close</th>\n",
       "    </tr>\n",
       "  </thead>\n",
       "  <tbody>\n",
       "    <tr>\n",
       "      <th>0</th>\n",
       "      <td>1.242857</td>\n",
       "      <td>1.145714</td>\n",
       "      <td>1.156429</td>\n",
       "      <td>1.196429</td>\n",
       "      <td>104790000</td>\n",
       "      <td>1.196429</td>\n",
       "    </tr>\n",
       "    <tr>\n",
       "      <th>1</th>\n",
       "      <td>1.225000</td>\n",
       "      <td>1.197143</td>\n",
       "      <td>1.214286</td>\n",
       "      <td>1.210000</td>\n",
       "      <td>11104800</td>\n",
       "      <td>1.210000</td>\n",
       "    </tr>\n",
       "    <tr>\n",
       "      <th>2</th>\n",
       "      <td>1.232143</td>\n",
       "      <td>1.157143</td>\n",
       "      <td>1.213571</td>\n",
       "      <td>1.157143</td>\n",
       "      <td>6609400</td>\n",
       "      <td>1.157143</td>\n",
       "    </tr>\n",
       "    <tr>\n",
       "      <th>3</th>\n",
       "      <td>1.164286</td>\n",
       "      <td>1.085714</td>\n",
       "      <td>1.164286</td>\n",
       "      <td>1.103571</td>\n",
       "      <td>6757800</td>\n",
       "      <td>1.103571</td>\n",
       "    </tr>\n",
       "    <tr>\n",
       "      <th>4</th>\n",
       "      <td>1.107857</td>\n",
       "      <td>1.071429</td>\n",
       "      <td>1.107857</td>\n",
       "      <td>1.071429</td>\n",
       "      <td>10154200</td>\n",
       "      <td>1.071429</td>\n",
       "    </tr>\n",
       "    <tr>\n",
       "      <th>5</th>\n",
       "      <td>1.078571</td>\n",
       "      <td>1.071429</td>\n",
       "      <td>1.078571</td>\n",
       "      <td>1.076429</td>\n",
       "      <td>8464400</td>\n",
       "      <td>1.076429</td>\n",
       "    </tr>\n",
       "    <tr>\n",
       "      <th>6</th>\n",
       "      <td>1.149286</td>\n",
       "      <td>1.076429</td>\n",
       "      <td>1.080000</td>\n",
       "      <td>1.128571</td>\n",
       "      <td>3151400</td>\n",
       "      <td>1.128571</td>\n",
       "    </tr>\n",
       "    <tr>\n",
       "      <th>7</th>\n",
       "      <td>1.140000</td>\n",
       "      <td>1.110714</td>\n",
       "      <td>1.135714</td>\n",
       "      <td>1.117857</td>\n",
       "      <td>3105200</td>\n",
       "      <td>1.117857</td>\n",
       "    </tr>\n",
       "    <tr>\n",
       "      <th>8</th>\n",
       "      <td>1.159286</td>\n",
       "      <td>1.107143</td>\n",
       "      <td>1.110714</td>\n",
       "      <td>1.147143</td>\n",
       "      <td>1531600</td>\n",
       "      <td>1.147143</td>\n",
       "    </tr>\n",
       "    <tr>\n",
       "      <th>9</th>\n",
       "      <td>1.232143</td>\n",
       "      <td>1.148571</td>\n",
       "      <td>1.150000</td>\n",
       "      <td>1.182143</td>\n",
       "      <td>2305800</td>\n",
       "      <td>1.182143</td>\n",
       "    </tr>\n",
       "  </tbody>\n",
       "</table>\n",
       "</div>"
      ],
      "text/plain": [
       "       High       Low      Open     Close     Volume  Adj Close\n",
       "0  1.242857  1.145714  1.156429  1.196429  104790000   1.196429\n",
       "1  1.225000  1.197143  1.214286  1.210000   11104800   1.210000\n",
       "2  1.232143  1.157143  1.213571  1.157143    6609400   1.157143\n",
       "3  1.164286  1.085714  1.164286  1.103571    6757800   1.103571\n",
       "4  1.107857  1.071429  1.107857  1.071429   10154200   1.071429\n",
       "5  1.078571  1.071429  1.078571  1.076429    8464400   1.076429\n",
       "6  1.149286  1.076429  1.080000  1.128571    3151400   1.128571\n",
       "7  1.140000  1.110714  1.135714  1.117857    3105200   1.117857\n",
       "8  1.159286  1.107143  1.110714  1.147143    1531600   1.147143\n",
       "9  1.232143  1.148571  1.150000  1.182143    2305800   1.182143"
      ]
     },
     "execution_count": 9,
     "metadata": {},
     "output_type": "execute_result"
    }
   ],
   "source": [
    "x=df.drop(columns=[\"Date\"],axis=1).head(10)\n",
    "x"
   ]
  },
  {
   "cell_type": "code",
   "execution_count": 10,
   "id": "22ebe019",
   "metadata": {},
   "outputs": [
    {
     "data": {
      "text/plain": [
       "<Axes: >"
      ]
     },
     "execution_count": 10,
     "metadata": {},
     "output_type": "execute_result"
    },
    {
     "data": {
      "image/png": "[encoded data removed]",
      "text/plain": [
       "<Figure size 640x480 with 2 Axes>"
      ]
     },
     "metadata": {},
     "output_type": "display_data"
    }
   ],
   "source": [
    "sns.heatmap(x,cmap='PuOr',annot=True)"
   ]
  },
  {
   "cell_type": "code",
   "execution_count": 11,
   "id": "d46dffdd",
   "metadata": {},
   "outputs": [],
   "source": [
    "closed_prices=df[\"Close\"]\n",
    "seq_len=15\n",
    "mm=MinMaxScaler()\n",
    "scaled_price=mm.fit_transform(np.array(closed_prices)[... , None]).squeeze()"
   ]
  },
  {
   "cell_type": "code",
   "execution_count": 12,
   "id": "71729bb9",
   "metadata": {},
   "outputs": [],
   "source": [
    "X=[]\n",
    "y=[]"
   ]
  },
  {
   "cell_type": "code",
   "execution_count": 13,
   "id": "edfbc944",
   "metadata": {},
   "outputs": [],
   "source": [
    "for i in range(len(scaled_price)-seq_len):\n",
    "    X.append(scaled_price[i:i+seq_len])\n",
    "    y.append(scaled_price[i+seq_len])"
   ]
  },
  {
   "cell_type": "code",
   "execution_count": 14,
   "id": "7fe9b3b5",
   "metadata": {},
   "outputs": [],
   "source": [
    "X=np.array(X)[...,None]\n",
    "y=np.array(y)[...,None]"
   ]
  },
  {
   "cell_type": "code",
   "execution_count": 15,
   "id": "d190618c",
   "metadata": {},
   "outputs": [],
   "source": [
    "train_x=torch.from_numpy(X[:int(0.8*X.shape[0])]).float()\n",
    "train_y=torch.from_numpy(y[:int(0.8*X.shape[0])]).float()\n",
    "test_x=torch.from_numpy(X[int(0.8*X.shape[0]):]).float()\n",
    "test_y=torch.from_numpy(y[int(0.8*X.shape[0]):]).float()"
   ]
  },
  {
   "cell_type": "code",
   "execution_count": 16,
   "id": "fcc05031",
   "metadata": {},
   "outputs": [],
   "source": [
    "class Model(nn.Module):\n",
    "    def __init__(self, input_size, hidden_size):\n",
    "        super().__init__()\n",
    "        self.lstm=nn.LSTM(input_size, hidden_size, batch_first=True)\n",
    "        self.fc=nn.Linear(hidden_size,1)\n",
    "    def forward(self,x):\n",
    "        output ,(hidden,cell)=self.lstm(x)\n",
    "        return self.fc(hidden[-1,:])"
   ]
  },
  {
   "cell_type": "code",
   "execution_count": 17,
   "id": "ae954983",
   "metadata": {},
   "outputs": [],
   "source": [
    "model=Model(1,64)"
   ]
  },
  {
   "cell_type": "code",
   "execution_count": 18,
   "id": "d62785d7",
   "metadata": {},
   "outputs": [],
   "source": [
    "optimizer=torch.optim.Adam(model.parameters(),lr=0.001)"
   ]
  },
  {
   "cell_type": "code",
   "execution_count": 19,
   "id": "7bea4cb4",
   "metadata": {},
   "outputs": [],
   "source": [
    "loss_fn=nn.MSELoss()"
   ]
  },
  {
   "cell_type": "code",
   "execution_count": 20,
   "id": "b83176a7",
   "metadata": {},
   "outputs": [],
   "source": [
    "num_epochs=100"
   ]
  },
  {
   "cell_type": "code",
   "execution_count": 21,
   "id": "f43d200d",
   "metadata": {},
   "outputs": [
    {
     "name": "stdout",
     "output_type": "stream",
     "text": [
      "10 epoch loss 0.007102108\n",
      "20 epoch loss 0.0062936307\n",
      "30 epoch loss 0.0045046206\n",
      "40 epoch loss 0.0043674214\n",
      "50 epoch loss 0.0038250936\n",
      "60 epoch loss 0.003291045\n",
      "70 epoch loss 0.0023848596\n",
      "80 epoch loss 0.0005630498\n",
      "90 epoch loss 0.0002808434\n"
     ]
    }
   ],
   "source": [
    "for epoch in range(num_epochs):\n",
    "    output=model(train_x)\n",
    "    loss=loss_fn(output, train_y)\n",
    "    \n",
    "    optimizer.zero_grad()\n",
    "    loss.backward()\n",
    "    optimizer.step()\n",
    "    if epoch % 10== 0 and epoch !=0:\n",
    "        print(epoch,\"epoch loss\",loss.detach().numpy())"
   ]
  },
  {
   "cell_type": "code",
   "execution_count": 22,
   "id": "b1ad7179",
   "metadata": {},
   "outputs": [],
   "source": [
    "model.eval()\n",
    "with torch.no_grad():\n",
    "    output=model(test_x)"
   ]
  },
  {
   "cell_type": "code",
   "execution_count": 23,
   "id": "bce9f451",
   "metadata": {},
   "outputs": [],
   "source": [
    "pred=mm.inverse_transform(output.numpy())\n",
    "real=mm.inverse_transform(test_y.numpy())"
   ]
  },
  {
   "cell_type": "code",
   "execution_count": 24,
   "id": "e9a52600",
   "metadata": {},
   "outputs": [
    {
     "data": {
      "image/png": "[encoded data removed]",
      "text/plain": [
       "<Figure size 640x480 with 1 Axes>"
      ]
     },
     "metadata": {},
     "output_type": "display_data"
    }
   ],
   "source": [
    "plt.plot(pred.squeeze(),color=\"red\",label=\"predicted\")\n",
    "plt.plot(real.squeeze(),color=\"green\",label=\"real\")\n",
    "plt.show()"
   ]
  }
 ],
 "metadata": {
  "kernelspec": {
   "display_name": "Python 3 (ipykernel)",
   "language": "python",
   "name": "python3"
  },
  "language_info": {
   "codemirror_mode": {
    "name": "ipython",
    "version": 3
   },
   "file_extension": ".py",
   "mimetype": "text/x-python",
   "name": "python",
   "nbconvert_exporter": "python",
   "pygments_lexer": "ipython3",
   "version": "3.12.5"
  }
 },
 "nbformat": 4,
 "nbformat_minor": 5
}
